{
 "cells": [
  {
   "cell_type": "code",
   "execution_count": 1,
   "metadata": {},
   "outputs": [],
   "source": [
    "import pandas as pd \n",
    "import numpy as np\n",
    "import matplotlib.pyplot as plt\n",
    "from sklearn.linear_model import LinearRegression "
   ]
  },
  {
   "cell_type": "code",
   "execution_count": 9,
   "metadata": {},
   "outputs": [],
   "source": [
    "#Parameter: Number of Suicides \n",
    "suicides = pd.read_csv(\"suicides.csv\")\n",
    "suicides = suicides.drop(['INDICATOR', 'SUBJECT', 'MEASURE','FREQUENCY', 'Flag Codes'], axis = 1)\n",
    "suicides.rename(columns={\"TIME\": \"Year\", \"Value\":\"Suicide_Rate\"}, inplace = True)\n",
    "us = suicides.loc[suicides['LOCATION'] == 'USA']\n"
   ]
  },
  {
   "cell_type": "code",
   "execution_count": 10,
   "metadata": {},
   "outputs": [],
   "source": [
    "#Parameter: Percentage of Population Using Internet \n",
    "us_internet = pd.read_csv('US_Internet.csv')\n",
    "us_internet.rename(columns={\"Percent_Pop\": \"Internet_Usage\"}, inplace = True)\n",
    "#us_internet \n"
   ]
  },
  {
   "cell_type": "code",
   "execution_count": 59,
   "metadata": {},
   "outputs": [],
   "source": [
    "#Parameter: GDP per Capita \n",
    "gdp = pd.read_csv('GDP.csv')\n",
    "us_gdp = gdp.loc[gdp['LOCATION'] == 'USA']\n",
    "us_gdp = us_gdp.drop(['INDICATOR', 'SUBJECT', 'MEASURE','FREQUENCY', 'Flag Codes', 'LOCATION'], axis = 1)\n",
    "us_gdp.rename(columns={\"TIME\": \"Year\", \"Value\": \"GDP_Per_Capita\"}, inplace = True)\n",
    "#us_gdp\n"
   ]
  },
  {
   "cell_type": "code",
   "execution_count": 12,
   "metadata": {},
   "outputs": [],
   "source": [
    "#Parameter: Average Hours Worked \n",
    "hours = pd.read_csv('hours_worked.csv')\n",
    "us_hours = hours.loc[hours['LOCATION'] == 'USA']\n",
    "us_hours = us_hours.drop(['INDICATOR', 'SUBJECT', 'MEASURE','FREQUENCY', 'Flag Codes', 'LOCATION'], axis = 1)\n",
    "us_hours.rename(columns={\"TIME\": \"Year\", \"Value\": \"Average_Annual_Hours_Worked\"}, inplace = True)\n",
    "#us_hours\n"
   ]
  },
  {
   "cell_type": "code",
   "execution_count": 13,
   "metadata": {},
   "outputs": [],
   "source": [
    "#Parameter: Social Spending\n",
    "social_spending = pd.read_csv('Social_Spending.csv')\n",
    "us_social = social_spending.loc[social_spending['LOCATION'] == 'USA']\n",
    "us_social = us_social.drop(['INDICATOR', 'SUBJECT', 'MEASURE','FREQUENCY', 'Flag Codes', 'LOCATION'], axis = 1)\n",
    "us_social.rename(columns={\"TIME\": \"Year\", \"Value\":\"Social_Spending\"}, inplace = True)\n",
    "#us_social\n"
   ]
  },
  {
   "cell_type": "code",
   "execution_count": 14,
   "metadata": {},
   "outputs": [],
   "source": [
    "#Parameter: Unemployment \n",
    "us_unemployment = pd.read_csv('unemployment.csv')\n",
    "us_unemployment.rename(columns={\"Yearly Average Rate\":\"Unemployment_Rate\"}, inplace = True)\n",
    "#us_unemployment\n"
   ]
  },
  {
   "cell_type": "code",
   "execution_count": 50,
   "metadata": {},
   "outputs": [
    {
     "data": {
      "text/html": [
       "<div>\n",
       "<style scoped>\n",
       "    .dataframe tbody tr th:only-of-type {\n",
       "        vertical-align: middle;\n",
       "    }\n",
       "\n",
       "    .dataframe tbody tr th {\n",
       "        vertical-align: top;\n",
       "    }\n",
       "\n",
       "    .dataframe thead th {\n",
       "        text-align: right;\n",
       "    }\n",
       "</style>\n",
       "<table border=\"1\" class=\"dataframe\">\n",
       "  <thead>\n",
       "    <tr style=\"text-align: right;\">\n",
       "      <th></th>\n",
       "      <th>Year</th>\n",
       "      <th>Gini Index</th>\n",
       "    </tr>\n",
       "  </thead>\n",
       "  <tbody>\n",
       "    <tr>\n",
       "      <td>0</td>\n",
       "      <td>2015</td>\n",
       "      <td>0.462</td>\n",
       "    </tr>\n",
       "    <tr>\n",
       "      <td>1</td>\n",
       "      <td>2014</td>\n",
       "      <td>0.464</td>\n",
       "    </tr>\n",
       "    <tr>\n",
       "      <td>2</td>\n",
       "      <td>2013</td>\n",
       "      <td>0.459</td>\n",
       "    </tr>\n",
       "    <tr>\n",
       "      <td>3</td>\n",
       "      <td>2012</td>\n",
       "      <td>0.463</td>\n",
       "    </tr>\n",
       "    <tr>\n",
       "      <td>4</td>\n",
       "      <td>2011</td>\n",
       "      <td>0.463</td>\n",
       "    </tr>\n",
       "    <tr>\n",
       "      <td>5</td>\n",
       "      <td>2010</td>\n",
       "      <td>0.456</td>\n",
       "    </tr>\n",
       "    <tr>\n",
       "      <td>6</td>\n",
       "      <td>2009</td>\n",
       "      <td>0.456</td>\n",
       "    </tr>\n",
       "    <tr>\n",
       "      <td>7</td>\n",
       "      <td>2008</td>\n",
       "      <td>0.450</td>\n",
       "    </tr>\n",
       "    <tr>\n",
       "      <td>8</td>\n",
       "      <td>2007</td>\n",
       "      <td>0.444</td>\n",
       "    </tr>\n",
       "    <tr>\n",
       "      <td>9</td>\n",
       "      <td>2006</td>\n",
       "      <td>0.452</td>\n",
       "    </tr>\n",
       "    <tr>\n",
       "      <td>10</td>\n",
       "      <td>2005</td>\n",
       "      <td>0.450</td>\n",
       "    </tr>\n",
       "    <tr>\n",
       "      <td>11</td>\n",
       "      <td>2004</td>\n",
       "      <td>0.447</td>\n",
       "    </tr>\n",
       "    <tr>\n",
       "      <td>12</td>\n",
       "      <td>2003</td>\n",
       "      <td>0.445</td>\n",
       "    </tr>\n",
       "    <tr>\n",
       "      <td>13</td>\n",
       "      <td>2002</td>\n",
       "      <td>0.443</td>\n",
       "    </tr>\n",
       "    <tr>\n",
       "      <td>14</td>\n",
       "      <td>2001</td>\n",
       "      <td>0.446</td>\n",
       "    </tr>\n",
       "    <tr>\n",
       "      <td>15</td>\n",
       "      <td>2000</td>\n",
       "      <td>0.442</td>\n",
       "    </tr>\n",
       "    <tr>\n",
       "      <td>16</td>\n",
       "      <td>1999</td>\n",
       "      <td>0.441</td>\n",
       "    </tr>\n",
       "    <tr>\n",
       "      <td>17</td>\n",
       "      <td>1998</td>\n",
       "      <td>0.439</td>\n",
       "    </tr>\n",
       "    <tr>\n",
       "      <td>18</td>\n",
       "      <td>1997</td>\n",
       "      <td>0.440</td>\n",
       "    </tr>\n",
       "    <tr>\n",
       "      <td>19</td>\n",
       "      <td>1996</td>\n",
       "      <td>0.437</td>\n",
       "    </tr>\n",
       "    <tr>\n",
       "      <td>20</td>\n",
       "      <td>1995</td>\n",
       "      <td>0.433</td>\n",
       "    </tr>\n",
       "  </tbody>\n",
       "</table>\n",
       "</div>"
      ],
      "text/plain": [
       "    Year  Gini Index\n",
       "0   2015       0.462\n",
       "1   2014       0.464\n",
       "2   2013       0.459\n",
       "3   2012       0.463\n",
       "4   2011       0.463\n",
       "5   2010       0.456\n",
       "6   2009       0.456\n",
       "7   2008       0.450\n",
       "8   2007       0.444\n",
       "9   2006       0.452\n",
       "10  2005       0.450\n",
       "11  2004       0.447\n",
       "12  2003       0.445\n",
       "13  2002       0.443\n",
       "14  2001       0.446\n",
       "15  2000       0.442\n",
       "16  1999       0.441\n",
       "17  1998       0.439\n",
       "18  1997       0.440\n",
       "19  1996       0.437\n",
       "20  1995       0.433"
      ]
     },
     "execution_count": 50,
     "metadata": {},
     "output_type": "execute_result"
    }
   ],
   "source": [
    "#Parameter: Unemployment \n",
    "us_inequality = pd.read_csv('income_inequality.csv')\n",
    "us_inequality\n"
   ]
  },
  {
   "cell_type": "code",
   "execution_count": 60,
   "metadata": {},
   "outputs": [],
   "source": [
    "parameters = [us_internet, us_gdp, us_hours, us_social, us_unemployment, us_inequality]\n",
    "final_us = us\n",
    "for x in parameters:\n",
    "    final_us = pd.merge(final_us, x, on='Year')\n",
    "    \n",
    "final_us.rename(columns={\"Gini Index\":\"Gini_Index\"}, inplace = True)\n",
    "final_us = final_us.drop(['LOCATION'], axis = 1)"
   ]
  },
  {
   "cell_type": "code",
   "execution_count": 61,
   "metadata": {},
   "outputs": [],
   "source": [
    "final_us.to_csv('final_us.csv', index=False, header=True)\n"
   ]
  },
  {
   "cell_type": "code",
   "execution_count": 66,
   "metadata": {},
   "outputs": [],
   "source": [
    "master = pd.read_csv(\"master.csv\")\n",
    "usa = master.loc[master[\"country\"] == 'United States']\n",
    "usa = usa.drop(['country', 'suicides_no', 'population', 'country-year','HDI for year', ' gdp_for_year ($) ', 'gdp_per_capita ($)'], axis = 1)\n",
    "usa.rename(columns={\"year\":\"Year\", \"age\":\"Age\", \"sex\":\"Sex\", \"generation\":\"Generation\", \"suicides/100k pop\":\"Suicide_Rate\"}, inplace = True)\n",
    "usa \n",
    "\n",
    "usa.to_csv('us_demographics.csv', index=False, header=True)\n"
   ]
  }
 ],
 "metadata": {
  "kernelspec": {
   "display_name": "Python 3",
   "language": "python",
   "name": "python3"
  },
  "language_info": {
   "codemirror_mode": {
    "name": "ipython",
    "version": 3
   },
   "file_extension": ".py",
   "mimetype": "text/x-python",
   "name": "python",
   "nbconvert_exporter": "python",
   "pygments_lexer": "ipython3",
   "version": "3.7.4"
  }
 },
 "nbformat": 4,
 "nbformat_minor": 2
}
